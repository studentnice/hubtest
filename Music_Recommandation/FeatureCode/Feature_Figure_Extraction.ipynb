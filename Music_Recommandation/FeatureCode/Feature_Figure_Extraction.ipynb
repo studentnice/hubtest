{
 "cells": [
  {
   "cell_type": "code",
   "execution_count": 14,
   "metadata": {},
   "outputs": [],
   "source": [
    "import librosa\n",
    "import matplotlib.pyplot as plt\n",
    "import librosa.display\n",
    "import numpy as np \n",
    "from os import listdir\n",
    "from PIL import Image\n",
    "import time\n",
    "import os\n",
    "import glob\n",
    "%matplotlib inline"
   ]
  },
  {
   "cell_type": "code",
   "execution_count": 15,
   "metadata": {},
   "outputs": [],
   "source": [
    "#import py_file_model\n",
    "import Music_suffix \n",
    "import Music_namelist\n",
    "\n",
    "#get music suffix of all \n",
    "suffix = Music_suffix.suffixList() \n",
    "#music_dir = '/home/bob/Music/CloudMusic/'\n",
    "music_dir = '/media/bob/LocalDisk/CloudMusic/'\n",
    "musicInfo_path = '../MusicInfo/'\n",
    "\n",
    "#get the names of all music with suffix in the music_dir\n",
    "music_list = Music_namelist.nameList(music_dir, suffix)    "
   ]
  },
  {
   "cell_type": "code",
   "execution_count": 16,
   "metadata": {},
   "outputs": [],
   "source": [
    "def splitName(name):\n",
    "    folder = name.split('.')[0].strip(' ')\n",
    "    return folder"
   ]
  },
  {
   "cell_type": "markdown",
   "metadata": {},
   "source": [
    "# 歌曲载入"
   ]
  },
  {
   "cell_type": "code",
   "execution_count": 17,
   "metadata": {
    "scrolled": false
   },
   "outputs": [],
   "source": [
    "#load a music\n",
    "\n",
    "#return a time series:y and sampling rate:sr\n",
    "#y, sr = librosa.load(filename)\n",
    "#print(\"y为每首歌的时间序列\")\n",
    "#print(\"y.shape:{0}, 采样率:{1}\".format(y.shape, sr))"
   ]
  },
  {
   "cell_type": "markdown",
   "metadata": {},
   "source": [
    "# 特征提取"
   ]
  },
  {
   "cell_type": "code",
   "execution_count": 5,
   "metadata": {},
   "outputs": [],
   "source": [
    "def FeaExtra(y, sr):\n",
    "    #chroma_stft = librosa.feature.chroma_stft(y=y, sr=sr)\n",
    "    #chroma_cqt = librosa.feature.chroma_cqt(y=y, sr=sr)\n",
    "    chroma_cens = librosa.feature.chroma_cens(y=y, sr=sr)\n",
    "\n",
    "    melspectrogram = librosa.feature.melspectrogram(y=y, sr=sr)\n",
    "\n",
    "    mfcc = librosa.feature.mfcc(y=y, sr=sr)\n",
    "    rmse = librosa.feature.rmse(y=y)\n",
    "\n",
    "    S = np.abs(librosa.stft(y))\n",
    "    spectral_contrast = librosa.feature.spectral_contrast(S=S, sr=sr)\n",
    "    #从音频时间序列中提取谐波元素\n",
    "    y_hrmonic = librosa.effects.harmonic(y)\n",
    "    tonnetz = librosa.feature.tonnetz(y=y_hrmonic, sr=sr)\n",
    "\n",
    "    logmelspec = librosa.power_to_db(melspectrogram)\n",
    "\n",
    "    #spectral_cent = librosa.feature.spectral_centroid(y=y, sr=sr)\n",
    "    #spectral_bandwidth = librosa.feature.spectral_bandwidth(y=y, sr=sr)\n",
    "\n",
    "    #often converted to dB scale.\n",
    "    #spectral_flatness = librosa.feature.spectral_flatness(y=y)\n",
    "    #spectral_rolloff = librosa.feature.spectral_rolloff(y=y,sr=sr, roll_percent=0.95)\n",
    "\n",
    "    #获得将n阶多项式拟合到谱图列的系数\n",
    "    #p0 = librosa.feature.poly_features(S=S, order=0)\n",
    "    #p1 = librosa.feature.poly_features(S=S, order=1) #线性拟合\n",
    "    #p2 = librosa.feature.poly_features(S=S, order=2) #平方拟合\n",
    "\n",
    "    #zero_crossing_rate = librosa.feature.zero_crossing_rate(y)\n",
    "\n",
    "    #节拍跟踪器, 返回每分钟估计节拍数量 和 检测到节奏的帧数位置的列表\n",
    "    #tempo, beats = librosa.beat.beat_track(y=y, sr=sr)\n",
    "    features = [chroma_cens, \n",
    "               melspectrogram,\n",
    "               mfcc,\n",
    "               rmse,\n",
    "               spectral_contrast,\n",
    "               tonnetz,\n",
    "               logmelspec]\n",
    "    return features"
   ]
  },
  {
   "cell_type": "code",
   "execution_count": 18,
   "metadata": {},
   "outputs": [],
   "source": [
    "def Process(count, target_numb):\n",
    "    print(\"running: {0}%\".format(round((count + 1) * 100 / float(target_numb),3)), end=\"\\r\")\n",
    "    time.sleep(0.01)"
   ]
  },
  {
   "cell_type": "markdown",
   "metadata": {},
   "source": [
    "# 图片绘制保存"
   ]
  },
  {
   "cell_type": "code",
   "execution_count": 19,
   "metadata": {},
   "outputs": [],
   "source": [
    "def PltSave(filepath, targetpath, filename):\n",
    "    \n",
    "    newfilepath = targetpath + filename\n",
    "    #print(newfilepath)\n",
    "    y, sr = librosa.load(filepath)\n",
    "    \n",
    "    fig = plt.gcf()\n",
    "    melspec = librosa.feature.melspectrogram(y, sr, n_fft=1024, hop_length=512, n_mels=128)\n",
    "    # convert to log scale\n",
    "    logmelspec = librosa.power_to_db(melspec)\n",
    "    # plot mel spectrogram\n",
    "    librosa.display.specshow(logmelspec, sr=sr)\n",
    "    fig.set_size_inches(25.6 ,2.56)\n",
    "    plt.gca().xaxis.set_major_locator(plt.NullLocator())\n",
    "    plt.gca().yaxis.set_major_locator(plt.NullLocator())\n",
    "    plt.subplots_adjust(top = 1, bottom = 0, right = 1, left = 0, hspace = 0, wspace = 0)\n",
    "    plt.margins(0,0)\n",
    "    fig.savefig(newfilepath, format='png', \n",
    "                transparent=True, dpi=100, pad_inches = 0)\n",
    "    plt.close()\n",
    "    \n",
    "    "
   ]
  },
  {
   "cell_type": "code",
   "execution_count": 23,
   "metadata": {},
   "outputs": [],
   "source": [
    "def main():\n",
    "    number_all = len(music_list)\n",
    "    done = 0\n",
    "    for name in music_list:\n",
    "        try:\n",
    "            done += 1\n",
    "            filepath = music_dir + name\n",
    "            targetpath = musicInfo_path + splitName(name).replace(' ', '')\n",
    "            #y, sr = librosa.load(filepath)\n",
    "            os.mkdir(targetpath)\n",
    "            newTargetPath = targetpath + '/' #生成新保存文件夹路径\n",
    "            musicName = newTargetPath.split('/')[-2] #文件名\n",
    "            #print(musicName, newTargetPath)\n",
    "\n",
    "            PltSave(filepath, newTargetPath, musicName)\n",
    "            #print(musicName)\n",
    "\n",
    "            #show percentage\n",
    "            Process(done, number_all)\n",
    "\n",
    "        except FileExistsError:\n",
    "            continue"
   ]
  },
  {
   "cell_type": "code",
   "execution_count": 24,
   "metadata": {},
   "outputs": [
    {
     "name": "stdout",
     "output_type": "stream",
     "text": [
      "running: 15.658%\r"
     ]
    },
    {
     "ename": "NoBackendError",
     "evalue": "",
     "output_type": "error",
     "traceback": [
      "\u001b[0;31m---------------------------------------------------------------------------\u001b[0m",
      "\u001b[0;31mNoBackendError\u001b[0m                            Traceback (most recent call last)",
      "\u001b[0;32m<ipython-input-24-263240bbee7e>\u001b[0m in \u001b[0;36m<module>\u001b[0;34m\u001b[0m\n\u001b[0;32m----> 1\u001b[0;31m \u001b[0mmain\u001b[0m\u001b[0;34m(\u001b[0m\u001b[0;34m)\u001b[0m\u001b[0;34m\u001b[0m\u001b[0;34m\u001b[0m\u001b[0m\n\u001b[0m",
      "\u001b[0;32m<ipython-input-23-65fa8c29cf17>\u001b[0m in \u001b[0;36mmain\u001b[0;34m()\u001b[0m\n\u001b[1;32m     13\u001b[0m             \u001b[0;31m#print(musicName, newTargetPath)\u001b[0m\u001b[0;34m\u001b[0m\u001b[0;34m\u001b[0m\u001b[0;34m\u001b[0m\u001b[0m\n\u001b[1;32m     14\u001b[0m \u001b[0;34m\u001b[0m\u001b[0m\n\u001b[0;32m---> 15\u001b[0;31m             \u001b[0mPltSave\u001b[0m\u001b[0;34m(\u001b[0m\u001b[0mfilepath\u001b[0m\u001b[0;34m,\u001b[0m \u001b[0mnewTargetPath\u001b[0m\u001b[0;34m,\u001b[0m \u001b[0mmusicName\u001b[0m\u001b[0;34m)\u001b[0m\u001b[0;34m\u001b[0m\u001b[0;34m\u001b[0m\u001b[0m\n\u001b[0m\u001b[1;32m     16\u001b[0m             \u001b[0;31m#print(musicName)\u001b[0m\u001b[0;34m\u001b[0m\u001b[0;34m\u001b[0m\u001b[0;34m\u001b[0m\u001b[0m\n\u001b[1;32m     17\u001b[0m \u001b[0;34m\u001b[0m\u001b[0m\n",
      "\u001b[0;32m<ipython-input-19-af4930df81e9>\u001b[0m in \u001b[0;36mPltSave\u001b[0;34m(filepath, targetpath, filename)\u001b[0m\n\u001b[1;32m      3\u001b[0m     \u001b[0mnewfilepath\u001b[0m \u001b[0;34m=\u001b[0m \u001b[0mtargetpath\u001b[0m \u001b[0;34m+\u001b[0m \u001b[0mfilename\u001b[0m\u001b[0;34m\u001b[0m\u001b[0;34m\u001b[0m\u001b[0m\n\u001b[1;32m      4\u001b[0m     \u001b[0;31m#print(newfilepath)\u001b[0m\u001b[0;34m\u001b[0m\u001b[0;34m\u001b[0m\u001b[0;34m\u001b[0m\u001b[0m\n\u001b[0;32m----> 5\u001b[0;31m     \u001b[0my\u001b[0m\u001b[0;34m,\u001b[0m \u001b[0msr\u001b[0m \u001b[0;34m=\u001b[0m \u001b[0mlibrosa\u001b[0m\u001b[0;34m.\u001b[0m\u001b[0mload\u001b[0m\u001b[0;34m(\u001b[0m\u001b[0mfilepath\u001b[0m\u001b[0;34m)\u001b[0m\u001b[0;34m\u001b[0m\u001b[0;34m\u001b[0m\u001b[0m\n\u001b[0m\u001b[1;32m      6\u001b[0m \u001b[0;34m\u001b[0m\u001b[0m\n\u001b[1;32m      7\u001b[0m     \u001b[0mfig\u001b[0m \u001b[0;34m=\u001b[0m \u001b[0mplt\u001b[0m\u001b[0;34m.\u001b[0m\u001b[0mgcf\u001b[0m\u001b[0;34m(\u001b[0m\u001b[0;34m)\u001b[0m\u001b[0;34m\u001b[0m\u001b[0;34m\u001b[0m\u001b[0m\n",
      "\u001b[0;32m~/.conda/envs/pythonDL/lib/python3.6/site-packages/librosa/core/audio.py\u001b[0m in \u001b[0;36mload\u001b[0;34m(path, sr, mono, offset, duration, dtype, res_type)\u001b[0m\n\u001b[1;32m    110\u001b[0m \u001b[0;34m\u001b[0m\u001b[0m\n\u001b[1;32m    111\u001b[0m     \u001b[0my\u001b[0m \u001b[0;34m=\u001b[0m \u001b[0;34m[\u001b[0m\u001b[0;34m]\u001b[0m\u001b[0;34m\u001b[0m\u001b[0;34m\u001b[0m\u001b[0m\n\u001b[0;32m--> 112\u001b[0;31m     \u001b[0;32mwith\u001b[0m \u001b[0maudioread\u001b[0m\u001b[0;34m.\u001b[0m\u001b[0maudio_open\u001b[0m\u001b[0;34m(\u001b[0m\u001b[0mos\u001b[0m\u001b[0;34m.\u001b[0m\u001b[0mpath\u001b[0m\u001b[0;34m.\u001b[0m\u001b[0mrealpath\u001b[0m\u001b[0;34m(\u001b[0m\u001b[0mpath\u001b[0m\u001b[0;34m)\u001b[0m\u001b[0;34m)\u001b[0m \u001b[0;32mas\u001b[0m \u001b[0minput_file\u001b[0m\u001b[0;34m:\u001b[0m\u001b[0;34m\u001b[0m\u001b[0;34m\u001b[0m\u001b[0m\n\u001b[0m\u001b[1;32m    113\u001b[0m         \u001b[0msr_native\u001b[0m \u001b[0;34m=\u001b[0m \u001b[0minput_file\u001b[0m\u001b[0;34m.\u001b[0m\u001b[0msamplerate\u001b[0m\u001b[0;34m\u001b[0m\u001b[0;34m\u001b[0m\u001b[0m\n\u001b[1;32m    114\u001b[0m         \u001b[0mn_channels\u001b[0m \u001b[0;34m=\u001b[0m \u001b[0minput_file\u001b[0m\u001b[0;34m.\u001b[0m\u001b[0mchannels\u001b[0m\u001b[0;34m\u001b[0m\u001b[0;34m\u001b[0m\u001b[0m\n",
      "\u001b[0;32m~/.conda/envs/pythonDL/lib/python3.6/site-packages/audioread/__init__.py\u001b[0m in \u001b[0;36maudio_open\u001b[0;34m(path)\u001b[0m\n\u001b[1;32m    114\u001b[0m \u001b[0;34m\u001b[0m\u001b[0m\n\u001b[1;32m    115\u001b[0m     \u001b[0;31m# All backends failed!\u001b[0m\u001b[0;34m\u001b[0m\u001b[0;34m\u001b[0m\u001b[0;34m\u001b[0m\u001b[0m\n\u001b[0;32m--> 116\u001b[0;31m     \u001b[0;32mraise\u001b[0m \u001b[0mNoBackendError\u001b[0m\u001b[0;34m(\u001b[0m\u001b[0;34m)\u001b[0m\u001b[0;34m\u001b[0m\u001b[0;34m\u001b[0m\u001b[0m\n\u001b[0m",
      "\u001b[0;31mNoBackendError\u001b[0m: "
     ]
    }
   ],
   "source": [
    "main()"
   ]
  },
  {
   "cell_type": "markdown",
   "metadata": {},
   "source": [
    "# 歌曲名 与 歌曲路径"
   ]
  },
  {
   "cell_type": "code",
   "execution_count": 10,
   "metadata": {
    "scrolled": true
   },
   "outputs": [
    {
     "name": "stdout",
     "output_type": "stream",
     "text": [
      "25.70% has been done\n",
      "\n",
      "25.81% has been done\n",
      "\n",
      "25.91% has been done\n",
      "\n",
      "26.01% has been done\n",
      "\n",
      "26.12% has been done\n",
      "\n",
      "26.22% has been done\n",
      "\n",
      "26.33% has been done\n",
      "\n",
      "26.43% has been done\n",
      "\n",
      "26.53% has been done\n",
      "\n",
      "26.64% has been done\n",
      "\n",
      "26.74% has been done\n",
      "\n",
      "26.85% has been done\n",
      "\n",
      "26.95% has been done\n",
      "\n",
      "27.06% has been done\n",
      "\n",
      "27.16% has been done\n",
      "\n",
      "27.26% has been done\n",
      "\n",
      "27.37% has been done\n",
      "\n",
      "27.47% has been done\n",
      "\n",
      "27.58% has been done\n",
      "\n",
      "27.68% has been done\n",
      "\n",
      "27.78% has been done\n",
      "\n",
      "27.89% has been done\n",
      "\n",
      "27.99% has been done\n",
      "\n",
      "28.10% has been done\n",
      "\n",
      "28.20% has been done\n",
      "\n",
      "28.30% has been done\n",
      "\n",
      "28.41% has been done\n",
      "\n",
      "28.51% has been done\n",
      "\n",
      "28.62% has been done\n",
      "\n",
      "28.72% has been done\n",
      "\n",
      "28.82% has been done\n",
      "\n",
      "28.93% has been done\n",
      "\n",
      "29.03% has been done\n",
      "\n",
      "29.14% has been done\n",
      "\n",
      "29.24% has been done\n",
      "\n",
      "29.34% has been done\n",
      "\n",
      "29.45% has been done\n",
      "\n",
      "29.55% has been done\n",
      "\n",
      "29.66% has been done\n",
      "\n",
      "29.76% has been done\n",
      "\n",
      "29.86% has been done\n",
      "\n",
      "29.97% has been done\n",
      "\n",
      "30.07% has been done\n",
      "\n",
      "30.18% has been done\n",
      "\n",
      "30.28% has been done\n",
      "\n",
      "30.39% has been done\n",
      "\n",
      "30.49% has been done\n",
      "\n",
      "30.59% has been done\n",
      "\n",
      "30.70% has been done\n",
      "\n",
      "30.80% has been done\n",
      "\n",
      "31.01% has been done\n",
      "\n",
      "31.11% has been done\n",
      "\n",
      "31.22% has been done\n",
      "\n",
      "31.32% has been done\n",
      "\n",
      "31.43% has been done\n",
      "\n",
      "31.53% has been done\n",
      "\n",
      "31.63% has been done\n",
      "\n",
      "31.74% has been done\n",
      "\n",
      "31.84% has been done\n",
      "\n",
      "31.95% has been done\n",
      "\n",
      "32.05% has been done\n",
      "\n"
     ]
    },
    {
     "ename": "NoBackendError",
     "evalue": "",
     "output_type": "error",
     "traceback": [
      "\u001b[0;31m---------------------------------------------------------------------------\u001b[0m",
      "\u001b[0;31mNoBackendError\u001b[0m                            Traceback (most recent call last)",
      "\u001b[0;32m<ipython-input-10-790efae466f5>\u001b[0m in \u001b[0;36m<module>\u001b[0;34m\u001b[0m\n\u001b[1;32m      9\u001b[0m         \u001b[0mnewTargetPath\u001b[0m \u001b[0;34m=\u001b[0m \u001b[0mtargetpath\u001b[0m \u001b[0;34m+\u001b[0m \u001b[0;34m'/'\u001b[0m\u001b[0;34m\u001b[0m\u001b[0;34m\u001b[0m\u001b[0m\n\u001b[1;32m     10\u001b[0m         \u001b[0;31m#load music\u001b[0m\u001b[0;34m\u001b[0m\u001b[0;34m\u001b[0m\u001b[0;34m\u001b[0m\u001b[0m\n\u001b[0;32m---> 11\u001b[0;31m         \u001b[0my\u001b[0m\u001b[0;34m,\u001b[0m \u001b[0msr\u001b[0m \u001b[0;34m=\u001b[0m \u001b[0mlibrosa\u001b[0m\u001b[0;34m.\u001b[0m\u001b[0mload\u001b[0m\u001b[0;34m(\u001b[0m\u001b[0mfilepath\u001b[0m\u001b[0;34m)\u001b[0m\u001b[0;34m\u001b[0m\u001b[0;34m\u001b[0m\u001b[0m\n\u001b[0m\u001b[1;32m     12\u001b[0m         \u001b[0;31m#print(\"Loading... Done\")\u001b[0m\u001b[0;34m\u001b[0m\u001b[0;34m\u001b[0m\u001b[0;34m\u001b[0m\u001b[0m\n\u001b[1;32m     13\u001b[0m         \u001b[0;31m#get feature\u001b[0m\u001b[0;34m\u001b[0m\u001b[0;34m\u001b[0m\u001b[0;34m\u001b[0m\u001b[0m\n",
      "\u001b[0;32m~/.conda/envs/python3.6/lib/python3.6/site-packages/librosa/core/audio.py\u001b[0m in \u001b[0;36mload\u001b[0;34m(path, sr, mono, offset, duration, dtype, res_type)\u001b[0m\n\u001b[1;32m    110\u001b[0m \u001b[0;34m\u001b[0m\u001b[0m\n\u001b[1;32m    111\u001b[0m     \u001b[0my\u001b[0m \u001b[0;34m=\u001b[0m \u001b[0;34m[\u001b[0m\u001b[0;34m]\u001b[0m\u001b[0;34m\u001b[0m\u001b[0;34m\u001b[0m\u001b[0m\n\u001b[0;32m--> 112\u001b[0;31m     \u001b[0;32mwith\u001b[0m \u001b[0maudioread\u001b[0m\u001b[0;34m.\u001b[0m\u001b[0maudio_open\u001b[0m\u001b[0;34m(\u001b[0m\u001b[0mos\u001b[0m\u001b[0;34m.\u001b[0m\u001b[0mpath\u001b[0m\u001b[0;34m.\u001b[0m\u001b[0mrealpath\u001b[0m\u001b[0;34m(\u001b[0m\u001b[0mpath\u001b[0m\u001b[0;34m)\u001b[0m\u001b[0;34m)\u001b[0m \u001b[0;32mas\u001b[0m \u001b[0minput_file\u001b[0m\u001b[0;34m:\u001b[0m\u001b[0;34m\u001b[0m\u001b[0;34m\u001b[0m\u001b[0m\n\u001b[0m\u001b[1;32m    113\u001b[0m         \u001b[0msr_native\u001b[0m \u001b[0;34m=\u001b[0m \u001b[0minput_file\u001b[0m\u001b[0;34m.\u001b[0m\u001b[0msamplerate\u001b[0m\u001b[0;34m\u001b[0m\u001b[0;34m\u001b[0m\u001b[0m\n\u001b[1;32m    114\u001b[0m         \u001b[0mn_channels\u001b[0m \u001b[0;34m=\u001b[0m \u001b[0minput_file\u001b[0m\u001b[0;34m.\u001b[0m\u001b[0mchannels\u001b[0m\u001b[0;34m\u001b[0m\u001b[0;34m\u001b[0m\u001b[0m\n",
      "\u001b[0;32m~/.conda/envs/python3.6/lib/python3.6/site-packages/audioread/__init__.py\u001b[0m in \u001b[0;36maudio_open\u001b[0;34m(path)\u001b[0m\n\u001b[1;32m    114\u001b[0m \u001b[0;34m\u001b[0m\u001b[0m\n\u001b[1;32m    115\u001b[0m     \u001b[0;31m# All backends failed!\u001b[0m\u001b[0;34m\u001b[0m\u001b[0;34m\u001b[0m\u001b[0;34m\u001b[0m\u001b[0m\n\u001b[0;32m--> 116\u001b[0;31m     \u001b[0;32mraise\u001b[0m \u001b[0mNoBackendError\u001b[0m\u001b[0;34m(\u001b[0m\u001b[0;34m)\u001b[0m\u001b[0;34m\u001b[0m\u001b[0;34m\u001b[0m\u001b[0m\n\u001b[0m",
      "\u001b[0;31mNoBackendError\u001b[0m: "
     ]
    }
   ],
   "source": [
    "number_all = len(music_list)\n",
    "done = 0\n",
    "for name in music_list[:3]:\n",
    "    done += 1\n",
    "    filepath = music_dir + name\n",
    "    targetpath = musicInfo_path + splitName(name).replace(' ', '')\n",
    "    try:\n",
    "        os.mkdir(targetpath)\n",
    "        newTargetPath = targetpath + '/'\n",
    "        \n",
    "        \n",
    "        \n",
    "        '''\n",
    "        #load music\n",
    "        y, sr = librosa.load(filepath)\n",
    "        #print(\"Loading... Done\")\n",
    "        #get feature\n",
    "        features = FeaExtra(y, sr)\n",
    "        #print(\"Feature... Done\")\n",
    "        #plot and Save\n",
    "        PltSave(features, targetpath)\n",
    "        #show percentage\n",
    "        print(\"running: {:.2f}%\\n\".format((done/number_all)*100))\n",
    "        time.sleep(0.1)\n",
    "        #print(newTargetPath)\n",
    "        '''\n",
    "        \n",
    "    except FileExistsError or NoBackendError:\n",
    "        continue\n",
    "   "
   ]
  },
  {
   "cell_type": "code",
   "execution_count": 6,
   "metadata": {},
   "outputs": [],
   "source": [
    "def chromaSave(feature, feature_name, savePath):\n",
    "    plt.figure(figsize=(100, 10))\n",
    "    librosa.display.specshow(feature)\n",
    "    #feature_name = str(feature)\n",
    "    filepath = savePath + '/' +  feature_name + '.png'\n",
    "    #print(filepath)\n",
    "    plt.savefig(filepath, dpi=128, \n",
    "            transparent=True, bbox_inches='tight', pad_inches=0)\n",
    "    plt.close()"
   ]
  },
  {
   "cell_type": "code",
   "execution_count": 7,
   "metadata": {},
   "outputs": [],
   "source": [
    "def hzSave(feature, feature_name, savePath):\n",
    "    plt.figure(figsize=(100, 10))\n",
    "    librosa.display.specshow(librosa.power_to_db(feature,ref=np.max), \n",
    "                         fmax=8000)\n",
    "    #feature_name = str(feature)\n",
    "    filepath = savePath + '/' + feature_name + '.png'\n",
    "    plt.savefig(filepath, dpi=128, \n",
    "            transparent=True, bbox_inches='tight', pad_inches=0)\n",
    "    plt.close()"
   ]
  },
  {
   "cell_type": "code",
   "execution_count": 8,
   "metadata": {
    "scrolled": true
   },
   "outputs": [],
   "source": [
    "def PlotAndSave(features, newTargetPath):\n",
    "    chroma_cens, melspectrogram,mfcc,rmse,spectral_contrast,tonnetz,\\\n",
    "        logmelspec = features\n",
    "    chromaSave(chroma_cens, 'chroma_cens', newTargetPath)\n",
    "    hzSave(melspectrogram, 'melspectrogram', newTargetPath)\n",
    "    chromaSave(mfcc, 'mfcc', newTargetPath)\n",
    "    chromaSave(spectral_contrast, 'spectral_contrast', newTargetPath)\n",
    "    chromaSave(tonnetz, 'tonnetz', newTargetPath)\n",
    "    chromaSave(logmelspec, 'logmelspec', newTargetPath)"
   ]
  },
  {
   "cell_type": "markdown",
   "metadata": {},
   "source": [
    "# 图片拼接"
   ]
  },
  {
   "cell_type": "code",
   "execution_count": 15,
   "metadata": {},
   "outputs": [
    {
     "ename": "NameError",
     "evalue": "name 'path' is not defined",
     "output_type": "error",
     "traceback": [
      "\u001b[0;31m---------------------------------------------------------------------------\u001b[0m",
      "\u001b[0;31mNameError\u001b[0m                                 Traceback (most recent call last)",
      "\u001b[0;32m<ipython-input-15-a5b51296df8a>\u001b[0m in \u001b[0;36m<module>\u001b[0;34m\u001b[0m\n\u001b[0;32m----> 1\u001b[0;31m \u001b[0mims\u001b[0m \u001b[0;34m=\u001b[0m \u001b[0;34m[\u001b[0m\u001b[0mImage\u001b[0m\u001b[0;34m.\u001b[0m\u001b[0mopen\u001b[0m\u001b[0;34m(\u001b[0m\u001b[0mpath\u001b[0m \u001b[0;34m+\u001b[0m \u001b[0;34m'/'\u001b[0m \u001b[0;34m+\u001b[0m \u001b[0mfn\u001b[0m\u001b[0;34m)\u001b[0m \u001b[0;32mfor\u001b[0m \u001b[0mfn\u001b[0m \u001b[0;32min\u001b[0m \u001b[0mlistdir\u001b[0m\u001b[0;34m(\u001b[0m\u001b[0;34m'/home/bob/Desktop/pic/'\u001b[0m\u001b[0;34m)\u001b[0m \u001b[0;32mif\u001b[0m \u001b[0mfn\u001b[0m\u001b[0;34m.\u001b[0m\u001b[0mendswith\u001b[0m\u001b[0;34m(\u001b[0m\u001b[0;34m'.png'\u001b[0m\u001b[0;34m)\u001b[0m\u001b[0;34m]\u001b[0m\u001b[0;34m\u001b[0m\u001b[0;34m\u001b[0m\u001b[0m\n\u001b[0m",
      "\u001b[0;32m<ipython-input-15-a5b51296df8a>\u001b[0m in \u001b[0;36m<listcomp>\u001b[0;34m(.0)\u001b[0m\n\u001b[0;32m----> 1\u001b[0;31m \u001b[0mims\u001b[0m \u001b[0;34m=\u001b[0m \u001b[0;34m[\u001b[0m\u001b[0mImage\u001b[0m\u001b[0;34m.\u001b[0m\u001b[0mopen\u001b[0m\u001b[0;34m(\u001b[0m\u001b[0mpath\u001b[0m \u001b[0;34m+\u001b[0m \u001b[0;34m'/'\u001b[0m \u001b[0;34m+\u001b[0m \u001b[0mfn\u001b[0m\u001b[0;34m)\u001b[0m \u001b[0;32mfor\u001b[0m \u001b[0mfn\u001b[0m \u001b[0;32min\u001b[0m \u001b[0mlistdir\u001b[0m\u001b[0;34m(\u001b[0m\u001b[0;34m'/home/bob/Desktop/pic/'\u001b[0m\u001b[0;34m)\u001b[0m \u001b[0;32mif\u001b[0m \u001b[0mfn\u001b[0m\u001b[0;34m.\u001b[0m\u001b[0mendswith\u001b[0m\u001b[0;34m(\u001b[0m\u001b[0;34m'.png'\u001b[0m\u001b[0;34m)\u001b[0m\u001b[0;34m]\u001b[0m\u001b[0;34m\u001b[0m\u001b[0;34m\u001b[0m\u001b[0m\n\u001b[0m",
      "\u001b[0;31mNameError\u001b[0m: name 'path' is not defined"
     ]
    }
   ],
   "source": [
    "ims = [Image.open(path + '/' + fn) for fn in listdir('/home/bob/Desktop/pic/') if fn.endswith('.png')]"
   ]
  },
  {
   "cell_type": "code",
   "execution_count": 32,
   "metadata": {
    "scrolled": true
   },
   "outputs": [],
   "source": [
    "width, height = ims[0].size\n",
    "result = Image.new(ims[0].mode, (width, height*len(ims)))\n",
    "\n",
    "for i, im in enumerate(ims):\n",
    "    result.paste(im, box=(0, i*height), )\n",
    "\n",
    "result.save('/home/bob/Desktop/result.png')"
   ]
  }
 ],
 "metadata": {
  "kernelspec": {
   "display_name": "Python 3",
   "language": "python",
   "name": "python3"
  },
  "language_info": {
   "codemirror_mode": {
    "name": "ipython",
    "version": 3
   },
   "file_extension": ".py",
   "mimetype": "text/x-python",
   "name": "python",
   "nbconvert_exporter": "python",
   "pygments_lexer": "ipython3",
   "version": "3.6.7"
  }
 },
 "nbformat": 4,
 "nbformat_minor": 2
}
