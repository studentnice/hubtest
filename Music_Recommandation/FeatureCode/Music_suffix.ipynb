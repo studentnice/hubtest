{
 "cells": [
  {
   "cell_type": "code",
   "execution_count": 3,
   "metadata": {
    "scrolled": true
   },
   "outputs": [],
   "source": [
    "import os\n",
    "from os import listdir"
   ]
  },
  {
   "cell_type": "code",
   "execution_count": 7,
   "metadata": {},
   "outputs": [],
   "source": [
    "def suffixList():\n",
    "    path = '/home/bob/Music/music_dataset'\n",
    "    music_names = listdir(path)\n",
    "\n",
    "    suffix = []\n",
    "    for name in music_names: \n",
    "        suff = os.path.splitext(name)[-1]\n",
    "        if suff in suffix: \n",
    "            pass \n",
    "        else: \n",
    "            suffix.append(suff)\n",
    "    try:\n",
    "        suffix.remove('')\n",
    "        suffix.remove('.ncm')\n",
    "        suffix.remove('.jpg')\n",
    "    except:\n",
    "        pass\n",
    "    return suffix\n",
    "    #print(suffix)"
   ]
  },
  {
   "cell_type": "code",
   "execution_count": 9,
   "metadata": {},
   "outputs": [
    {
     "name": "stdout",
     "output_type": "stream",
     "text": [
      "['.mp3', '.m4a', '.flac']\n"
     ]
    }
   ],
   "source": [
    "a = suffixList()\n",
    "print(a)"
   ]
  },
  {
   "cell_type": "markdown",
   "metadata": {},
   "source": [
    "choose mp3, flac, wav, ape"
   ]
  }
 ],
 "metadata": {
  "kernelspec": {
   "display_name": "Python 3",
   "language": "python",
   "name": "python3"
  },
  "language_info": {
   "codemirror_mode": {
    "name": "ipython",
    "version": 3
   },
   "file_extension": ".py",
   "mimetype": "text/x-python",
   "name": "python",
   "nbconvert_exporter": "python",
   "pygments_lexer": "ipython3",
   "version": "3.6.7"
  }
 },
 "nbformat": 4,
 "nbformat_minor": 2
}
