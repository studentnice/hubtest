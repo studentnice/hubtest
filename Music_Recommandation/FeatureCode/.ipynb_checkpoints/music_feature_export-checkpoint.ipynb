{
 "cells": [
  {
   "cell_type": "code",
   "execution_count": 11,
   "metadata": {},
   "outputs": [],
   "source": [
    "import pandas as pd\n",
    "import numpy as np\n",
    "import librosa \n",
    "import os\n",
    "from os import listdir"
   ]
  },
  {
   "cell_type": "markdown",
   "metadata": {},
   "source": [
    "#### import py_file_model"
   ]
  },
  {
   "cell_type": "code",
   "execution_count": 12,
   "metadata": {},
   "outputs": [],
   "source": [
    "import Music_suffix \n",
    "suffix = Music_suffix.suffixList() #get music suffix of all "
   ]
  },
  {
   "cell_type": "code",
   "execution_count": 13,
   "metadata": {},
   "outputs": [],
   "source": [
    "music_dir = '/home/bob/Music/CloudMusic/'\n",
    "music_all_list = listdir(music_dir) #get names of all music in Music_dir\n",
    "music_list = []\n",
    "for name in music_all_list:\n",
    "    suff = os.path.splitext(name)[-1] # get suffix of each name\n",
    "    if suff in suffix:\n",
    "        music_list.append(name)\n",
    "    else:\n",
    "        pass\n",
    "#music_list"
   ]
  },
  {
   "cell_type": "code",
   "execution_count": null,
   "metadata": {},
   "outputs": [],
   "source": []
  }
 ],
 "metadata": {
  "kernelspec": {
   "display_name": "Python 3",
   "language": "python",
   "name": "python3"
  },
  "language_info": {
   "codemirror_mode": {
    "name": "ipython",
    "version": 3
   },
   "file_extension": ".py",
   "mimetype": "text/x-python",
   "name": "python",
   "nbconvert_exporter": "python",
   "pygments_lexer": "ipython3",
   "version": "3.6.7"
  }
 },
 "nbformat": 4,
 "nbformat_minor": 2
}
