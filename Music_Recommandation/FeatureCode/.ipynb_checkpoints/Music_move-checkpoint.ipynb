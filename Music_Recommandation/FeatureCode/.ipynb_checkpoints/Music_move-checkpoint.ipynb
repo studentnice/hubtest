{
 "cells": [
  {
   "cell_type": "code",
   "execution_count": 8,
   "metadata": {},
   "outputs": [],
   "source": [
    "import glob\n",
    "import os\n",
    "import shutil"
   ]
  },
  {
   "cell_type": "code",
   "execution_count": 43,
   "metadata": {},
   "outputs": [],
   "source": [
    "def getSuf(src):\n",
    "    suffix = []\n",
    "    files = glob.glob(src+'*')\n",
    "    for names in files:\n",
    "        suf = os.path.splitext(names)[-1]\n",
    "        if suf not in suffix:\n",
    "            suffix.append(suf)\n",
    "    return suffix"
   ]
  },
  {
   "cell_type": "code",
   "execution_count": 44,
   "metadata": {},
   "outputs": [],
   "source": [
    "src = '/Users/bob/Downloads/Dmg/' #源文件地址 \n",
    "dst = '/Users/bob/Desktop/' #目的文件地址\n",
    "suffix_list = getSuf(src) #目的文件后缀列表"
   ]
  },
  {
   "cell_type": "code",
   "execution_count": 52,
   "metadata": {},
   "outputs": [
    {
     "name": "stdout",
     "output_type": "stream",
     "text": [
      "/Users/bob/Downloads/Dmg/googlechrome.dmg /Users/bob/Desktop/googlechrome.dmg\n",
      "/Users/bob/Downloads/Dmg/IINA.v1.0.1.dmg /Users/bob/Desktop/IINA.v1.0.1.dmg\n",
      "/Users/bob/Downloads/Dmg/NeteaseMusic_2.0.0_700_web.dmg /Users/bob/Desktop/NeteaseMusic_2.0.0_700_web.dmg\n",
      "/Users/bob/Downloads/Dmg/NetWorker_Pass_xclient.info.dmg /Users/bob/Desktop/NetWorker_Pass_xclient.info.dmg\n",
      "/Users/bob/Downloads/Dmg/thunder_3.3.1.3904.dmg /Users/bob/Desktop/thunder_3.3.1.3904.dmg\n",
      "/Users/bob/Downloads/Dmg/Sublime Text Build 3176.dmg /Users/bob/Desktop/Sublime Text Build 3176.dmg\n",
      "/Users/bob/Downloads/Dmg/sogou_mac_52a.zip /Users/bob/Desktop/sogou_mac_52a.zip\n"
     ]
    }
   ],
   "source": [
    "for suffix in suffix_list: #遍历每一个后缀\n",
    "    src_path = os.path.join(src, '*'+suffix) #获得当前目录下所有后缀文件的路径\n",
    "    music_kinds = glob.glob(src_path) #获得当前目录下所有后缀文件\n",
    "    for music_path in music_kinds: #得到此后缀名所欲文件路径\n",
    "        music_name = os.path.split(music_path)[-1] #获得文件名\n",
    "        target_name = dst + music_name\n",
    "        shutil.copyfile(music_path, target_name)\n",
    "        print(music_path, target_name)"
   ]
  }
 ],
 "metadata": {
  "kernelspec": {
   "display_name": "Python 3",
   "language": "python",
   "name": "python3"
  },
  "language_info": {
   "codemirror_mode": {
    "name": "ipython",
    "version": 3
   },
   "file_extension": ".py",
   "mimetype": "text/x-python",
   "name": "python",
   "nbconvert_exporter": "python",
   "pygments_lexer": "ipython3",
   "version": "3.6.7"
  }
 },
 "nbformat": 4,
 "nbformat_minor": 2
}
