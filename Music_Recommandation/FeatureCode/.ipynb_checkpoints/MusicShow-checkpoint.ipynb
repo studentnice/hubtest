{
 "cells": [
  {
   "cell_type": "code",
   "execution_count": 3,
   "metadata": {},
   "outputs": [],
   "source": [
    "import figPlot\n",
    "import numpy as np\n",
    "import pandas as pd\n",
    "from scipy import misc\n",
    "from keras.models import Model\n",
    "from keras.layers import Input, Conv2D, BatchNormalization\n",
    "from keras.layers import LeakyReLU, MaxPooling2D, GlobalMaxPooling2D, Dense\n",
    "import webbrowser\n",
    "import os\n",
    "\n",
    "def imread(f):\n",
    "    x = misc.imread(f, mode='RGB')\n",
    "    return x.astype(np.float32) / 255 * 2 - 1\n",
    "\n",
    "#create AutoEncoder\n",
    "def AutoEncoder(ImgData):\n",
    "    '''\n",
    "    paragrams: ImgData size is (1, height, weight, 3)\n",
    "    '''\n",
    "    img_height = ImgData.shape[1]\n",
    "    img_weight = ImgData.shape[2]\n",
    "\n",
    "    z_dim = 128 # 隐变量维度\n",
    "    \n",
    "    # 编码器（卷积与最大池化）\n",
    "    x_in = Input(shape=(img_height, img_weight, 3))\n",
    "    x = x_in\n",
    "    \n",
    "    for i in range(4):\n",
    "        x = Conv2D(int(z_dim / 2**(3-i)), \n",
    "                   kernel_size=(3,3), padding='SAME')(x)\n",
    "        x = BatchNormalization()(x)\n",
    "        x = LeakyReLU(0.2)(x)\n",
    "        x = MaxPooling2D((2, 2))(x)\n",
    "\n",
    "    for i in range(2):\n",
    "        x = Conv2D(z_dim,\n",
    "                   kernel_size=(3,3),\n",
    "                   padding='SAME')(x)\n",
    "        x = BatchNormalization()(x)\n",
    "        x = LeakyReLU(0.2)(x)\n",
    "    \n",
    "    x = GlobalMaxPooling2D()(x) # 全局特征\n",
    "    \n",
    "    z_mean = Dense(z_dim)(x) # 均值，也就是最终输出的编码\n",
    "    encoder = Model(x_in, z_mean) # 总的编码器就是输出z_mean\n",
    "    return encoder\n",
    "\n",
    "def calcuSimMus(zs):\n",
    "    topn = 10\n",
    "    idxs = ((zs**2).sum(1) + (zs[1500]**2).sum() - 2 * np.dot(zs, zs[1500])).argsort()[1:topn]\n",
    "    similar_list = idxs.tolist()\n",
    "    return similar_list\n",
    "\n",
    "def getMusicName(simiList):\n",
    "    Music_list = []\n",
    "    img_data = pd.read_csv('../Data/nameIndex.csv', names=['id', 'name'])\n",
    "    for sims in simiList:\n",
    "        simImage = img_data[img_data['id']==int(sims)]\n",
    "        simName = simImage['name'].values[0]\n",
    "        Music_list.append(simName)\n",
    "        print(simName)\n",
    "    return Music_list\n",
    "\n",
    "def srcGet(path, name):\n",
    "    return path + name\n",
    "\n",
    "def nameGet(name):\n",
    "    return os.path.splitext(name)[0]\n",
    "\n",
    "def simPer(N):\n",
    "    return [str(round((N-i) / (N/10)-9, 2)*100)+'%' for i in range(1, 11)]\n",
    "percentage = simPer(1500)"
   ]
  },
  {
   "cell_type": "code",
   "execution_count": 2,
   "metadata": {},
   "outputs": [],
   "source": [
    "musicVec = np.loadtxt('/home/bob/Desktop/MusicVec.txt', delimiter=',')\n"
   ]
  },
  {
   "cell_type": "code",
   "execution_count": 6,
   "metadata": {},
   "outputs": [
    {
     "data": {
      "text/plain": [
       "[618, 468, 260, 1295, 915, 198, 262, 23, 547]"
      ]
     },
     "execution_count": 6,
     "metadata": {},
     "output_type": "execute_result"
    }
   ],
   "source": [
    "simiList = calcuSimMus(musicVec)\n",
    "simiList"
   ]
  },
  {
   "cell_type": "code",
   "execution_count": 7,
   "metadata": {},
   "outputs": [
    {
     "name": "stdout",
     "output_type": "stream",
     "text": [
      "RISE.mp3\n",
      "Shawn Mendes-Mercy.mp3\n",
      "Ritual (Original Mix).mp3\n",
      "Triarchy,The Chainsmokers,Jhene Aiko - Wake Up Alone (Triarchy Remix).mp3\n",
      "Actium - I Need You.mp3\n",
      "Please Don't Go.mp3\n",
      "Kari Kimmel-Fingerprints.mp3\n",
      "Tyron Hapi,Mashd N Kutcher - We Could Be.mp3\n",
      "More Than You Know.mp3\n"
     ]
    },
    {
     "data": {
      "text/plain": [
       "['RISE.mp3',\n",
       " 'Shawn Mendes-Mercy.mp3',\n",
       " 'Ritual (Original Mix).mp3',\n",
       " 'Triarchy,The Chainsmokers,Jhene Aiko - Wake Up Alone (Triarchy Remix).mp3',\n",
       " 'Actium - I Need You.mp3',\n",
       " \"Please Don't Go.mp3\",\n",
       " 'Kari Kimmel-Fingerprints.mp3',\n",
       " 'Tyron Hapi,Mashd N Kutcher - We Could Be.mp3',\n",
       " 'More Than You Know.mp3']"
      ]
     },
     "execution_count": 7,
     "metadata": {},
     "output_type": "execute_result"
    }
   ],
   "source": [
    "recMusic = getMusicName(simiList)\n",
    "recMusic"
   ]
  }
 ],
 "metadata": {
  "kernelspec": {
   "display_name": "Python 3",
   "language": "python",
   "name": "python3"
  },
  "language_info": {
   "codemirror_mode": {
    "name": "ipython",
    "version": 3
   },
   "file_extension": ".py",
   "mimetype": "text/x-python",
   "name": "python",
   "nbconvert_exporter": "python",
   "pygments_lexer": "ipython3",
   "version": "3.6.8"
  }
 },
 "nbformat": 4,
 "nbformat_minor": 2
}
