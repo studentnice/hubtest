{
 "cells": [
  {
   "cell_type": "code",
   "execution_count": 1,
   "metadata": {},
   "outputs": [
    {
     "name": "stderr",
     "output_type": "stream",
     "text": [
      "Using TensorFlow backend.\n"
     ]
    }
   ],
   "source": [
    "import figPlot\n",
    "import numpy as np\n",
    "import pandas as pd\n",
    "from scipy import misc\n",
    "from keras.models import Model\n",
    "from keras.layers import Input, Conv2D, BatchNormalization\n",
    "from keras.layers import LeakyReLU, MaxPooling2D, GlobalMaxPooling2D, Dense\n",
    "import webbrowser\n",
    "import os\n",
    "import glob\n",
    "from tqdm import tqdm"
   ]
  },
  {
   "cell_type": "code",
   "execution_count": 2,
   "metadata": {},
   "outputs": [],
   "source": [
    "#图片集存放路径 \n",
    "img_path = '../MusicInputFig_Eng/*' \n",
    "imgs = glob.glob(img_path) #读取该路径下所有图片 返回路径列表list"
   ]
  },
  {
   "cell_type": "code",
   "execution_count": 3,
   "metadata": {},
   "outputs": [],
   "source": [
    "def imread(f):\n",
    "    x = misc.imread(f, mode='RGB')\n",
    "    return x.astype(np.float32) / 255 * 2 - 1\n",
    "\n",
    "#create AutoEncoder\n",
    "def AutoEncoder(ImgShape):\n",
    "    '''\n",
    "    paragrams: ImgData size is [height, weight]\n",
    "    '''\n",
    "    img_height = ImgShape[0]\n",
    "    img_weight = ImgShape[1]\n",
    "\n",
    "    z_dim = 128 # 隐变量维度\n",
    "    \n",
    "    # 编码器（卷积与最大池化）\n",
    "    x_in = Input(shape=(img_height, img_weight, 3))\n",
    "    x = x_in\n",
    "    \n",
    "    for i in range(4):\n",
    "        x = Conv2D(int(z_dim / 2**(3-i)), \n",
    "                   kernel_size=(3,3), padding='SAME')(x)\n",
    "        x = BatchNormalization()(x)\n",
    "        x = LeakyReLU(0.2)(x)\n",
    "        x = MaxPooling2D((2, 2))(x)\n",
    "\n",
    "    for i in range(2):\n",
    "        x = Conv2D(z_dim,\n",
    "                   kernel_size=(3,3),\n",
    "                   padding='SAME')(x)\n",
    "        x = BatchNormalization()(x)\n",
    "        x = LeakyReLU(0.2)(x)\n",
    "    \n",
    "    x = GlobalMaxPooling2D()(x) # 全局特征\n",
    "    \n",
    "    z_mean = Dense(z_dim)(x) # 均值，也就是最终输出的编码\n",
    "    encoder = Model(x_in, z_mean) # 总的编码器就是输出z_mean\n",
    "    return encoder\n",
    "\n",
    "def calcuSimMus(zs):\n",
    "    topn = 11\n",
    "    idxs = ((zs**2).sum(1) + (zs[1500]**2).sum() - 2 * np.dot(zs, zs[1500])).argsort()[1:topn]\n",
    "    similar_list = idxs.tolist()\n",
    "    return similar_list\n",
    "\n",
    "def getMusicName(simiList):\n",
    "    Music_list = []\n",
    "    img_data = pd.read_csv('../Data/nameIndex.csv', names=['id', 'name'])\n",
    "    for sims in simiList:\n",
    "        simImage = img_data[img_data['id']==int(sims)]\n",
    "        simName = simImage['name'].values[0]\n",
    "        Music_list.append(simName)\n",
    "        print(simName)\n",
    "    return Music_list\n",
    "\n",
    "def srcGet(path, name):\n",
    "    return path + name\n",
    "\n",
    "def nameGet(name):\n",
    "    return os.path.splitext(name)[0]\n",
    "\n",
    "def simPer(N):\n",
    "    return [str(round((N-i) / (N/10)-9, 2)*100)+'%' for i in range(1, 11)]\n",
    "percentage = simPer(1500)"
   ]
  },
  {
   "cell_type": "code",
   "execution_count": 4,
   "metadata": {},
   "outputs": [
    {
     "name": "stderr",
     "output_type": "stream",
     "text": [
      "0it [00:00, ?it/s]/home/bob/.conda/envs/pythonDL/lib/python3.6/site-packages/ipykernel_launcher.py:2: DeprecationWarning: `imread` is deprecated!\n",
      "`imread` is deprecated in SciPy 1.0.0, and will be removed in 1.2.0.\n",
      "Use ``imageio.imread`` instead.\n",
      "  \n",
      "1500it [00:40, 37.49it/s]\n"
     ]
    }
   ],
   "source": [
    "#得到训练集  注意: 这步很耗内存\n",
    "img_train = []\n",
    "index = 0\n",
    "for imgPath in tqdm(iter(imgs[:1500])):\n",
    "    fname = os.path.splitext(imgPath.split('/')[-1])[0] #获得歌曲名\n",
    "    index = index+1\n",
    "    img = imread(imgPath)\n",
    "    img_train.append(img)\n",
    "    del img"
   ]
  },
  {
   "cell_type": "code",
   "execution_count": 5,
   "metadata": {},
   "outputs": [],
   "source": [
    "MusicName = 'DAOKO,米津玄師 - 打上花火.mp3'"
   ]
  },
  {
   "cell_type": "code",
   "execution_count": 6,
   "metadata": {},
   "outputs": [],
   "source": [
    "MusicDir = '../testMusic/music/'\n",
    "FigDir = '../testMusic/musicFig/'\n",
    "absolutelyMusicDir = '/home/bob/Desktop/Music_Recommend/testMusic/music/'\n",
    "musicDir = '/home/bob/Music/music_dataset/'\n",
    "\n",
    "musicPath = MusicDir + MusicName\n",
    "musicFigPath = FigDir + MusicName\n",
    "FigPath = musicFigPath + '.png'"
   ]
  },
  {
   "cell_type": "code",
   "execution_count": 7,
   "metadata": {
    "scrolled": true
   },
   "outputs": [
    {
     "name": "stderr",
     "output_type": "stream",
     "text": [
      "/home/bob/.conda/envs/pythonDL/lib/python3.6/site-packages/ipykernel_launcher.py:2: DeprecationWarning: `imread` is deprecated!\n",
      "`imread` is deprecated in SciPy 1.0.0, and will be removed in 1.2.0.\n",
      "Use ``imageio.imread`` instead.\n",
      "  \n"
     ]
    }
   ],
   "source": [
    "img = imread(FigPath)"
   ]
  },
  {
   "cell_type": "code",
   "execution_count": 8,
   "metadata": {},
   "outputs": [],
   "source": [
    "img_train.append(img)"
   ]
  },
  {
   "cell_type": "code",
   "execution_count": 9,
   "metadata": {},
   "outputs": [],
   "source": [
    "image_train = np.array(img_train)  \n",
    "x_train = image_train\n",
    "del img_train"
   ]
  },
  {
   "cell_type": "code",
   "execution_count": 10,
   "metadata": {},
   "outputs": [],
   "source": [
    "encoder = AutoEncoder(np.expand_dims(img, axis=0))"
   ]
  },
  {
   "cell_type": "code",
   "execution_count": 11,
   "metadata": {
    "scrolled": true
   },
   "outputs": [
    {
     "name": "stdout",
     "output_type": "stream",
     "text": [
      "1501/1501 [==============================] - 24s 16ms/step\n",
      "-0.0012588811\n",
      "0.120184205\n"
     ]
    }
   ],
   "source": [
    "zs = encoder.predict(x_train, verbose=True)\n",
    "print(zs.mean()) # 查看均值（简单观察先验分布有没有达到效果）\n",
    "print(zs.std()) # 查看方差（简单观察先验分布有没有达到效果）"
   ]
  },
  {
   "cell_type": "code",
   "execution_count": 12,
   "metadata": {},
   "outputs": [],
   "source": [
    "np.savetxt('/home/bob/Desktop/MusicVec.txt', zs, delimiter=',')"
   ]
  },
  {
   "cell_type": "code",
   "execution_count": 13,
   "metadata": {},
   "outputs": [],
   "source": [
    "musicVec = np.loadtxt('/home/bob/Desktop/MusicVec.txt', delimiter=',')"
   ]
  },
  {
   "cell_type": "code",
   "execution_count": 14,
   "metadata": {},
   "outputs": [
    {
     "data": {
      "text/plain": [
       "[479, 1124, 273, 837, 525, 874, 1159, 53, 486, 924]"
      ]
     },
     "execution_count": 14,
     "metadata": {},
     "output_type": "execute_result"
    }
   ],
   "source": [
    "simiList = calcuSimMus(musicVec)\n",
    "simiList"
   ]
  },
  {
   "cell_type": "code",
   "execution_count": 15,
   "metadata": {
    "scrolled": true
   },
   "outputs": [
    {
     "name": "stdout",
     "output_type": "stream",
     "text": [
      "DAOKO (ダヲコ)-打上花火.m4a\n",
      "AGA-Wonderful U.mp3\n",
      "Wolves.mp3\n",
      "Wonderful U_AGA.wav\n",
      "Wonderful U (Demo Version).mp3\n",
      "Libera-God Rest You Merry Gentlemen.m4a\n",
      "Selena Gomez,Marshmello - Wolves.flac\n",
      "Wolves_Selena Gomez.wav\n",
      "Kory Burns - Count the Ways (Main Mix).mp3\n",
      "Holly Brook-Saturdays.mp3\n"
     ]
    }
   ],
   "source": [
    "recMusic = getMusicName(simiList)"
   ]
  },
  {
   "cell_type": "code",
   "execution_count": 16,
   "metadata": {},
   "outputs": [
    {
     "data": {
      "text/plain": [
       "True"
      ]
     },
     "execution_count": 16,
     "metadata": {},
     "output_type": "execute_result"
    }
   ],
   "source": [
    "nameHtml = '../musicShow.html'\n",
    "f = open(nameHtml, 'w')\n",
    "message = \"\"\"\n",
    "<!DOCTYPE html>\n",
    "\n",
    "<!DOCTYPE >\n",
    "<html >\n",
    "\n",
    "\t<style type=\"text/css\">\n",
    "\t\tbody {\n",
    "\t\t\tcolor: #00ffff;\n",
    "\t\t}\n",
    "\t\t\n",
    "\t\t#player,\n",
    "\t\t#list {\n",
    "\t\t\tmargin: 35px;\n",
    "\t\t}\n",
    "\t\t\n",
    "\t\ta,\n",
    "\t\ta:visited,\n",
    "\t\ta:active {\n",
    "\t\t\tcolor: #02F78E;\n",
    "\t\t\ttext-decoration: none;\n",
    "\t\t\tfont-size: 15px;\n",
    "\t\t}\n",
    "\t\t\n",
    "\t\ta:hover {\n",
    "\t\t\tcolor: #1abc9c;\n",
    "\t\t\ttext-decoration: none;\n",
    "\t\t}\n",
    "\t\t\n",
    "\t\t#wrap {\n",
    "            background-image: url(Data/timg2.jpeg);\n",
    "\t\t\tBackground-size: cover;\n",
    "\t\t\tmargin: 10px;\n",
    "\t\t\tpadding: 10px 10px 10px 20px;\n",
    "\t\t\twidth: 350px;\n",
    "\t\t\t-webkit-box-shadow: 0 0 15px #000;\n",
    "\t\t\t-moz-box-shadow: 0 0 15px #000;\n",
    "\t\t\tbox-shadow: 0 0 15px #000;\n",
    "\t\t\t-webkit-backface-visibility: hidden;\n",
    "\t\t\t-webkit-border-radius: 2px;\n",
    "\t\t\t-moz-border-radius: 2px;\n",
    "\t\t\tborder-radius: 2px;\n",
    "\t\t}\n",
    "\t\t\n",
    "\t\t#now,\n",
    "\t\t#mp3name {\n",
    "\t\t\tfont-size:12px;\n",
    "\t\t\tfont-family: 宋体;\n",
    "\t\t\tfloat: left;\n",
    "\t\t\tmargin: 10px;\n",
    "\t\t}\n",
    "\t\t\n",
    "\t\t#title {\n",
    "\t\t\tcolor: #80FFFF;\n",
    "\t\t\tmargin: 10px 10px 15px 10px;\n",
    "\t\t\tfont-style: italic;\n",
    "\t\t\tfont-weight: bold;\n",
    "\t\t\tfont-size:23px;\n",
    "\t\t\tfont-family: ;  //前三行字体\n",
    "\t\t}\n",
    "\t\t\n",
    "\t\t#search {\n",
    "\t\t\tmargin : 10px;\n",
    "\t\t}\n",
    "\t\t\n",
    "\t\t#ftitle {\n",
    "\t\t\tmargin-bottom: 10px;\n",
    "\t\t\tpadding: 0px;\n",
    "\t\t\tfont-size: 24px;\n",
    "\t\t\tfont-weight: bold;\n",
    "\t\t}\n",
    "\t\t\n",
    "\t\t#stitle {\n",
    "\t\t\tmargin: 0px;\n",
    "\t\t\tpadding: 0px;\n",
    "\t\t\tfont-size: 20px;\n",
    "\t\t}\n",
    "\t\t\n",
    "\t</style>\n",
    "\n",
    "\t<head>\n",
    "\t\t<meta http-equiv=\"Content-Type\" content=\"text/html; charset=utf-8\" />\n",
    "\t\t<title>HTML5音乐播放器</title>\n",
    "\t\t<meta name=\"keywords\" content=\"HTML5音乐播放器。\" />\n",
    "\t</head>\n",
    "\n",
    "\t<body > <!-- 背景图片-->\n",
    "\t\t<div id=\"wrap\">\n",
    "\t\t\t<div id=\"list\">\n",
    "\t\t\t\t<p id=\"ftitle\">所选歌曲</p>\n",
    "\t\t\t\t<div id=\"title\">\n",
    "\t\t\t\t\t<a href=\"javascript:void(0);\" onclick=\"playmusic(0)\">%s</a>\n",
    "\t\t\t\t</div>\n",
    "\t\t\t\t\n",
    "\t\t\t\t<p id=\"stitle\">推荐歌曲</p><br />\n",
    "\t\t\t\t\n",
    "\t\t\t\t<form>\n",
    "\t\t\t\t\n",
    "\t\t\t\t<li>\n",
    "\t\t\t\t\t<a href=\"javascript:void(0);\" onclick=\"playmusic(1)\">%s</a>\n",
    "\t\t\t\t</li>\n",
    "\t\t\t\t<li>\n",
    "\t\t\t\t\t<a href=\"javascript:void(0);\" onclick=\"playmusic(2)\">%s</a>\n",
    "\t\t\t\t</li>\n",
    "\t\t\t\t<li>\n",
    "\t\t\t\t\t<a href=\"javascript:void(0);\" onclick=\"playmusic(3)\">%s</a>\n",
    "\t\t\t\t</li>\n",
    "\t\t\t\t<li>\n",
    "\t\t\t\t\t<a href=\"javascript:void(0);\" onclick=\"playmusic(4)\">%s</a>\n",
    "\t\t\t\t</li>\n",
    "\t\t\t\t<li>\n",
    "\t\t\t\t\t<a href=\"javascript:void(0);\" onclick=\"playmusic(5)\">%s</a>\n",
    "\t\t\t\t</li>\n",
    "\t\t\t\t<li>\n",
    "\t\t\t\t\t<a href=\"javascript:void(0);\" onclick=\"playmusic(6)\">%s</a>\n",
    "\t\t\t\t</li>\n",
    "\t\t\t\t<li>\n",
    "\t\t\t\t\t<a href=\"javascript:void(0);\" onclick=\"playmusic(7)\">%s</a>\n",
    "\t\t\t\t</li>\n",
    "\t\t\t\t<li>\n",
    "\t\t\t\t\t<a href=\"javascript:void(0);\" onclick=\"playmusic(8)\">%s</a>\n",
    "\t\t\t\t</li>\n",
    "\t\t\t\t<li>\n",
    "\t\t\t\t\t<a href=\"javascript:void(0);\" onclick=\"playmusic(9)\" >%s</a>\n",
    "\t\t\t\t</li>\n",
    "                <li>\n",
    "\t\t\t\t\t<a href=\"javascript:void(0);\" onclick=\"playmusic(10)\" >%s</a>\n",
    "\t\t\t\t</li>\n",
    "\t\t\t</div>\n",
    "\t\t\t<audio id=\"player\" controls=\"true\">你的浏览器太烂了</audio>\n",
    "\t\t\t<div id=\"now\">正在播放：</div><span id=\"mp3name\">无</span>\n",
    "\t\t\t<div style=\"clear:both\"></div>\n",
    "\t\t</div>\n",
    "\t</body>\n",
    "\n",
    "\t<script type=\"text/javascript\">\n",
    "\t\tfunction playmusic(i) {\n",
    "\t\t\tvar my = document.getElementById(\"player\");\n",
    "\t\t\tswitch(i) {\n",
    "            \tcase 0:\n",
    "\t\t\t\t\tmy.setAttribute(\"src\", \"%s\");\n",
    "\t\t\t\t\tdocument.getElementById(\"mp3name\").innerText = \"正在获取歌曲。。。\";\n",
    "\t\t\t\t\tmy.addEventListener(\"canplaythrough\",\n",
    "\t\t\t\t\t\tfunction() {\n",
    "\t\t\t\t\t\t\tdocument.getElementById(\"mp3name\").innerText = \"%s\";\n",
    "\t\t\t\t\t\t}, false);\n",
    "\t\t\t\t\tmy.play();\n",
    "\t\t\t\t\tbreak;\n",
    "\t\t\t\tcase 1:\n",
    "\t\t\t\t\tmy.setAttribute(\"src\", \"%s\");\n",
    "\t\t\t\t\tdocument.getElementById(\"mp3name\").innerText = \"正在获取歌曲。。。\";\n",
    "\t\t\t\t\tmy.addEventListener(\"canplaythrough\",\n",
    "\t\t\t\t\t\tfunction() {\n",
    "\t\t\t\t\t\t\tdocument.getElementById(\"mp3name\").innerText = \"%s\";\n",
    "\t\t\t\t\t\t}, false);\n",
    "\t\t\t\t\tmy.play();\n",
    "\t\t\t\t\tbreak;\n",
    "\t\t\t\tcase 2:\n",
    "\t\t\t\t\tmy.setAttribute(\"src\", \"%s\");\n",
    "\t\t\t\t\tdocument.getElementById(\"mp3name\").innerText = \"正在获取歌曲。。。\";\n",
    "\t\t\t\t\tmy.addEventListener(\"canplaythrough\",\n",
    "\t\t\t\t\t\tfunction() {\n",
    "\t\t\t\t\t\t\tdocument.getElementById(\"mp3name\").innerText = \"%s\";\n",
    "\t\t\t\t\t\t}, false);\n",
    "\t\t\t\t\tmy.play();\n",
    "\t\t\t\t\tbreak;\n",
    "\t\t\t\tcase 3:\n",
    "\t\t\t\t\tmy.setAttribute(\"src\", \"%s\");\n",
    "\t\t\t\t\tdocument.getElementById(\"mp3name\").innerText = \"正在获取歌曲。。。\";\n",
    "\t\t\t\t\tmy.addEventListener(\"canplaythrough\",\n",
    "\t\t\t\t\t\tfunction() {\n",
    "\t\t\t\t\t\t\tdocument.getElementById(\"mp3name\").innerText = \"%s\";\n",
    "\t\t\t\t\t\t}, false);\n",
    "\t\t\t\t\tmy.play();\n",
    "\t\t\t\t\tbreak;\n",
    "\t\t\t\tcase 4:\n",
    "\t\t\t\t\tmy.setAttribute(\"src\", \"%s\");\n",
    "\t\t\t\t\tdocument.getElementById(\"mp3name\").innerText = \"正在获取歌曲。。。\";\n",
    "\t\t\t\t\tmy.addEventListener(\"canplaythrough\",\n",
    "\t\t\t\t\t\tfunction() {\n",
    "\t\t\t\t\t\t\tdocument.getElementById(\"mp3name\").innerText = \"%s\";\n",
    "\t\t\t\t\t\t}, false);\n",
    "\t\t\t\t\tmy.play();\n",
    "\t\t\t\t\tbreak;\n",
    "\t\t\t\tcase 5:\n",
    "\t\t\t\t\tmy.setAttribute(\"src\", \"%s\");\n",
    "\t\t\t\t\tdocument.getElementById(\"mp3name\").innerText = \"正在获取歌曲。。。\";\n",
    "\t\t\t\t\tmy.addEventListener(\"canplaythrough\",\n",
    "\t\t\t\t\t\tfunction() {\n",
    "\t\t\t\t\t\t\tdocument.getElementById(\"mp3name\").innerText = \"%s\";\n",
    "\t\t\t\t\t\t}, false);\n",
    "\t\t\t\t\tmy.play();\n",
    "\t\t\t\t\tbreak;\n",
    "\t\t\t\tcase 6:\n",
    "\t\t\t\t\tmy.setAttribute(\"src\", \"%s\");\n",
    "\t\t\t\t\tdocument.getElementById(\"mp3name\").innerText = \"正在获取歌曲。。。\";\n",
    "\t\t\t\t\tmy.addEventListener(\"canplaythrough\",\n",
    "\t\t\t\t\t\tfunction() {\n",
    "\t\t\t\t\t\t\tdocument.getElementById(\"mp3name\").innerText = \"%s\";\n",
    "\t\t\t\t\t\t}, false);\n",
    "\t\t\t\t\tmy.play();\n",
    "\t\t\t\t\tbreak;\n",
    "\t\t\t\tcase 7:\n",
    "\t\t\t\t\tmy.setAttribute(\"src\", \"%s\");\n",
    "\t\t\t\t\tdocument.getElementById(\"mp3name\").innerText = \"正在获取歌曲。。。\";\n",
    "\t\t\t\t\tmy.addEventListener(\"canplaythrough\",\n",
    "\t\t\t\t\t\tfunction() {\n",
    "\t\t\t\t\t\t\tdocument.getElementById(\"mp3name\").innerText = \"%s\";\n",
    "\t\t\t\t\t\t}, false);\n",
    "\t\t\t\t\tmy.play();\n",
    "\t\t\t\t\tbreak;\n",
    "\t\t\t\tcase 8:\n",
    "\t\t\t\t\tmy.setAttribute(\"src\", \"%s\");\n",
    "\t\t\t\t\tdocument.getElementById(\"mp3name\").innerText = \"正在获取歌曲。。。\";\n",
    "\t\t\t\t\tmy.addEventListener(\"canplaythrough\",\n",
    "\t\t\t\t\t\tfunction() {\n",
    "\t\t\t\t\t\t\tdocument.getElementById(\"mp3name\").innerText = \"%s\";\n",
    "\t\t\t\t\t\t}, false);\n",
    "\t\t\t\t\tmy.play();\n",
    "\t\t\t\t\tbreak;\n",
    "\t\t\t\tcase 9:\n",
    "\t\t\t\t\tmy.setAttribute(\"src\", \"%s\");\n",
    "\t\t\t\t\tdocument.getElementById(\"mp3name\").innerText = \"正在获取歌曲。。。\";\n",
    "\t\t\t\t\tmy.addEventListener(\"canplaythrough\",\n",
    "\t\t\t\t\t\tfunction() {\n",
    "\t\t\t\t\t\t\tdocument.getElementById(\"mp3name\").innerText = \"%s\";\n",
    "\t\t\t\t\t\t}, false);\n",
    "\t\t\t\t\tmy.play();\n",
    "\t\t\t\t\tbreak;\n",
    "                case 10:\n",
    "\t\t\t\t\tmy.setAttribute(\"src\", \"%s\");\n",
    "\t\t\t\t\tdocument.getElementById(\"mp3name\").innerText = \"正在获取歌曲。。。\";\n",
    "\t\t\t\t\tmy.addEventListener(\"canplaythrough\",\n",
    "\t\t\t\t\t\tfunction() {\n",
    "\t\t\t\t\t\t\tdocument.getElementById(\"mp3name\").innerText = \"%s\";\n",
    "\t\t\t\t\t\t}, false);\n",
    "\t\t\t\t\tmy.play();\n",
    "\t\t\t\t\tbreak;\n",
    "\t\t\t\tdefault:\n",
    "\t\t\t}\n",
    "\n",
    "\t\t}\n",
    "\t</script>Design by Bob    \n",
    "    \"\"\"%(nameGet(MusicName), \n",
    "    nameGet(percentage[0]+' '+recMusic[0]), \n",
    "    nameGet(percentage[1]+' '+recMusic[1]), \n",
    "    nameGet(percentage[2]+' '+recMusic[2]), \n",
    "    nameGet(percentage[3]+' '+recMusic[3]), \n",
    "    nameGet(percentage[4]+' '+recMusic[4]), \n",
    "    nameGet(percentage[5]+' '+recMusic[5]), \n",
    "    nameGet(percentage[6]+' '+recMusic[6]), \n",
    "    nameGet(percentage[7]+' '+recMusic[7]), \n",
    "    nameGet(percentage[8]+' '+recMusic[8]), \n",
    "    nameGet(percentage[9]+' '+recMusic[9]), \n",
    "    srcGet(absolutelyMusicDir, MusicName),\n",
    "    nameGet(MusicName),    \n",
    "    srcGet(musicDir, recMusic[0]), \n",
    "    nameGet(recMusic[0]), \n",
    "    srcGet(musicDir, recMusic[1]), \n",
    "    nameGet(recMusic[1]), \n",
    "    srcGet(musicDir, recMusic[2]), \n",
    "    nameGet(recMusic[2]), \n",
    "    srcGet(musicDir, recMusic[3]), \n",
    "    nameGet(recMusic[3]), \n",
    "    srcGet(musicDir, recMusic[4]), \n",
    "    nameGet(recMusic[4]), \n",
    "    srcGet(musicDir, recMusic[5]), \n",
    "    nameGet(recMusic[5]), \n",
    "    srcGet(musicDir, recMusic[6]), \n",
    "    nameGet(recMusic[6]), \n",
    "    srcGet(musicDir, recMusic[7]), \n",
    "    nameGet(recMusic[7]), \n",
    "    srcGet(musicDir, recMusic[8]),\n",
    "    nameGet(recMusic[8]),\n",
    "    srcGet(musicDir, recMusic[9]),\n",
    "    nameGet(recMusic[9])\n",
    "    )\n",
    "\n",
    "\n",
    "f.write(message)\n",
    "f.close()\n",
    "\n",
    "webbrowser.open(nameHtml, new=1)"
   ]
  }
 ],
 "metadata": {
  "kernelspec": {
   "display_name": "Python 3",
   "language": "python",
   "name": "python3"
  },
  "language_info": {
   "codemirror_mode": {
    "name": "ipython",
    "version": 3
   },
   "file_extension": ".py",
   "mimetype": "text/x-python",
   "name": "python",
   "nbconvert_exporter": "python",
   "pygments_lexer": "ipython3",
   "version": "3.6.8"
  }
 },
 "nbformat": 4,
 "nbformat_minor": 2
}
